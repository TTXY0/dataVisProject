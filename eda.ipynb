{
 "cells": [
  {
   "cell_type": "code",
   "execution_count": 1,
   "metadata": {},
   "outputs": [],
   "source": [
    "import numpy as np\n",
    "import pandas as pd\n",
    "import matplotlib.pyplot as plt\n",
    "\n",
    "train_events_path = \"child-mind-institute-detect-sleep-states/train_events.csv\"\n",
    "train_series_path = \"child-mind-institute-detect-sleep-states/train_series.parquet\"\n",
    "test_series_path = \"child-mind-institute-detect-sleep-states/test_series.parquet\"\n",
    "\n",
    "#train_events_path = \"/kaggle/input/child-mind-institute-detect-sleep-states/train_events.csv\"\n",
    "#train_series_path = \"/kaggle/input/child-mind-institute-detect-sleep-states/train_series.parquet\"\n",
    "#test_series_path = \"kaggle/input/child-mind-institute-detect-sleep-states/test_series.parquet\"\n"
   ]
  },
  {
   "cell_type": "code",
   "execution_count": 2,
   "metadata": {},
   "outputs": [
    {
     "data": {
      "text/html": [
       "<div>\n",
       "<style scoped>\n",
       "    .dataframe tbody tr th:only-of-type {\n",
       "        vertical-align: middle;\n",
       "    }\n",
       "\n",
       "    .dataframe tbody tr th {\n",
       "        vertical-align: top;\n",
       "    }\n",
       "\n",
       "    .dataframe thead th {\n",
       "        text-align: right;\n",
       "    }\n",
       "</style>\n",
       "<table border=\"1\" class=\"dataframe\">\n",
       "  <thead>\n",
       "    <tr style=\"text-align: right;\">\n",
       "      <th></th>\n",
       "      <th>series_id</th>\n",
       "      <th>night</th>\n",
       "      <th>event</th>\n",
       "      <th>step</th>\n",
       "      <th>timestamp</th>\n",
       "    </tr>\n",
       "  </thead>\n",
       "  <tbody>\n",
       "    <tr>\n",
       "      <th>0</th>\n",
       "      <td>038441c925bb</td>\n",
       "      <td>1</td>\n",
       "      <td>onset</td>\n",
       "      <td>4992.0</td>\n",
       "      <td>2018-08-14T22:26:00-0400</td>\n",
       "    </tr>\n",
       "    <tr>\n",
       "      <th>1</th>\n",
       "      <td>038441c925bb</td>\n",
       "      <td>1</td>\n",
       "      <td>wakeup</td>\n",
       "      <td>10932.0</td>\n",
       "      <td>2018-08-15T06:41:00-0400</td>\n",
       "    </tr>\n",
       "    <tr>\n",
       "      <th>2</th>\n",
       "      <td>038441c925bb</td>\n",
       "      <td>2</td>\n",
       "      <td>onset</td>\n",
       "      <td>20244.0</td>\n",
       "      <td>2018-08-15T19:37:00-0400</td>\n",
       "    </tr>\n",
       "    <tr>\n",
       "      <th>3</th>\n",
       "      <td>038441c925bb</td>\n",
       "      <td>2</td>\n",
       "      <td>wakeup</td>\n",
       "      <td>27492.0</td>\n",
       "      <td>2018-08-16T05:41:00-0400</td>\n",
       "    </tr>\n",
       "    <tr>\n",
       "      <th>4</th>\n",
       "      <td>038441c925bb</td>\n",
       "      <td>3</td>\n",
       "      <td>onset</td>\n",
       "      <td>39996.0</td>\n",
       "      <td>2018-08-16T23:03:00-0400</td>\n",
       "    </tr>\n",
       "  </tbody>\n",
       "</table>\n",
       "</div>"
      ],
      "text/plain": [
       "      series_id  night   event     step                 timestamp\n",
       "0  038441c925bb      1   onset   4992.0  2018-08-14T22:26:00-0400\n",
       "1  038441c925bb      1  wakeup  10932.0  2018-08-15T06:41:00-0400\n",
       "2  038441c925bb      2   onset  20244.0  2018-08-15T19:37:00-0400\n",
       "3  038441c925bb      2  wakeup  27492.0  2018-08-16T05:41:00-0400\n",
       "4  038441c925bb      3   onset  39996.0  2018-08-16T23:03:00-0400"
      ]
     },
     "execution_count": 2,
     "metadata": {},
     "output_type": "execute_result"
    }
   ],
   "source": [
    "train_events = pd.read_csv(\"child-mind-institute-detect-sleep-states/train_events.csv\")\n",
    "train_series = pd.read_parquet(\"child-mind-institute-detect-sleep-states/train_series.parquet\")\n",
    "test_series = pd.read_parquet(\"child-mind-institute-detect-sleep-states/test_series.parquet\")\n",
    "train_events.head()"
   ]
  },
  {
   "cell_type": "markdown",
   "metadata": {},
   "source": [
    "---------------"
   ]
  },
  {
   "cell_type": "markdown",
   "metadata": {},
   "source": [
    "# In this first step, we should try to combine train_events with train_series to create a binary target feature \"awake\", where 0 represents the asleep state and 1 represents the awake state. This will make it easier to do EDA and predcition using machine learning"
   ]
  },
  {
   "cell_type": "code",
   "execution_count": 3,
   "metadata": {},
   "outputs": [
    {
     "data": {
      "text/html": [
       "<div>\n",
       "<style scoped>\n",
       "    .dataframe tbody tr th:only-of-type {\n",
       "        vertical-align: middle;\n",
       "    }\n",
       "\n",
       "    .dataframe tbody tr th {\n",
       "        vertical-align: top;\n",
       "    }\n",
       "\n",
       "    .dataframe thead th {\n",
       "        text-align: right;\n",
       "    }\n",
       "</style>\n",
       "<table border=\"1\" class=\"dataframe\">\n",
       "  <thead>\n",
       "    <tr style=\"text-align: right;\">\n",
       "      <th></th>\n",
       "      <th>series_id</th>\n",
       "      <th>step</th>\n",
       "      <th>timestamp</th>\n",
       "      <th>anglez</th>\n",
       "      <th>enmo</th>\n",
       "    </tr>\n",
       "  </thead>\n",
       "  <tbody>\n",
       "    <tr>\n",
       "      <th>0</th>\n",
       "      <td>038441c925bb</td>\n",
       "      <td>0</td>\n",
       "      <td>2018-08-14T15:30:00-0400</td>\n",
       "      <td>2.636700</td>\n",
       "      <td>0.0217</td>\n",
       "    </tr>\n",
       "    <tr>\n",
       "      <th>1</th>\n",
       "      <td>038441c925bb</td>\n",
       "      <td>1</td>\n",
       "      <td>2018-08-14T15:30:05-0400</td>\n",
       "      <td>2.636800</td>\n",
       "      <td>0.0215</td>\n",
       "    </tr>\n",
       "    <tr>\n",
       "      <th>2</th>\n",
       "      <td>038441c925bb</td>\n",
       "      <td>2</td>\n",
       "      <td>2018-08-14T15:30:10-0400</td>\n",
       "      <td>2.637000</td>\n",
       "      <td>0.0216</td>\n",
       "    </tr>\n",
       "    <tr>\n",
       "      <th>3</th>\n",
       "      <td>038441c925bb</td>\n",
       "      <td>3</td>\n",
       "      <td>2018-08-14T15:30:15-0400</td>\n",
       "      <td>2.636800</td>\n",
       "      <td>0.0213</td>\n",
       "    </tr>\n",
       "    <tr>\n",
       "      <th>4</th>\n",
       "      <td>038441c925bb</td>\n",
       "      <td>4</td>\n",
       "      <td>2018-08-14T15:30:20-0400</td>\n",
       "      <td>2.636800</td>\n",
       "      <td>0.0215</td>\n",
       "    </tr>\n",
       "    <tr>\n",
       "      <th>...</th>\n",
       "      <td>...</td>\n",
       "      <td>...</td>\n",
       "      <td>...</td>\n",
       "      <td>...</td>\n",
       "      <td>...</td>\n",
       "    </tr>\n",
       "    <tr>\n",
       "      <th>445</th>\n",
       "      <td>0402a003dae9</td>\n",
       "      <td>145</td>\n",
       "      <td>2018-12-18T12:57:05-0500</td>\n",
       "      <td>-59.696899</td>\n",
       "      <td>0.0601</td>\n",
       "    </tr>\n",
       "    <tr>\n",
       "      <th>446</th>\n",
       "      <td>0402a003dae9</td>\n",
       "      <td>146</td>\n",
       "      <td>2018-12-18T12:57:10-0500</td>\n",
       "      <td>-35.656601</td>\n",
       "      <td>0.0427</td>\n",
       "    </tr>\n",
       "    <tr>\n",
       "      <th>447</th>\n",
       "      <td>0402a003dae9</td>\n",
       "      <td>147</td>\n",
       "      <td>2018-12-18T12:57:15-0500</td>\n",
       "      <td>-21.582399</td>\n",
       "      <td>0.0309</td>\n",
       "    </tr>\n",
       "    <tr>\n",
       "      <th>448</th>\n",
       "      <td>0402a003dae9</td>\n",
       "      <td>148</td>\n",
       "      <td>2018-12-18T12:57:20-0500</td>\n",
       "      <td>-42.616001</td>\n",
       "      <td>0.0328</td>\n",
       "    </tr>\n",
       "    <tr>\n",
       "      <th>449</th>\n",
       "      <td>0402a003dae9</td>\n",
       "      <td>149</td>\n",
       "      <td>2018-12-18T12:57:25-0500</td>\n",
       "      <td>7.029900</td>\n",
       "      <td>0.0081</td>\n",
       "    </tr>\n",
       "  </tbody>\n",
       "</table>\n",
       "<p>450 rows × 5 columns</p>\n",
       "</div>"
      ],
      "text/plain": [
       "        series_id  step                 timestamp     anglez    enmo\n",
       "0    038441c925bb     0  2018-08-14T15:30:00-0400   2.636700  0.0217\n",
       "1    038441c925bb     1  2018-08-14T15:30:05-0400   2.636800  0.0215\n",
       "2    038441c925bb     2  2018-08-14T15:30:10-0400   2.637000  0.0216\n",
       "3    038441c925bb     3  2018-08-14T15:30:15-0400   2.636800  0.0213\n",
       "4    038441c925bb     4  2018-08-14T15:30:20-0400   2.636800  0.0215\n",
       "..            ...   ...                       ...        ...     ...\n",
       "445  0402a003dae9   145  2018-12-18T12:57:05-0500 -59.696899  0.0601\n",
       "446  0402a003dae9   146  2018-12-18T12:57:10-0500 -35.656601  0.0427\n",
       "447  0402a003dae9   147  2018-12-18T12:57:15-0500 -21.582399  0.0309\n",
       "448  0402a003dae9   148  2018-12-18T12:57:20-0500 -42.616001  0.0328\n",
       "449  0402a003dae9   149  2018-12-18T12:57:25-0500   7.029900  0.0081\n",
       "\n",
       "[450 rows x 5 columns]"
      ]
     },
     "execution_count": 3,
     "metadata": {},
     "output_type": "execute_result"
    }
   ],
   "source": [
    "test_series"
   ]
  },
  {
   "cell_type": "markdown",
   "metadata": {},
   "source": [
    "## Check that all of the data start with onset"
   ]
  },
  {
   "cell_type": "code",
   "execution_count": 4,
   "metadata": {},
   "outputs": [
    {
     "data": {
      "text/plain": [
       "array(['onset'], dtype=object)"
      ]
     },
     "execution_count": 4,
     "metadata": {},
     "output_type": "execute_result"
    }
   ],
   "source": [
    "train_events.groupby('series_id').head(1)[\"event\"].unique()"
   ]
  },
  {
   "cell_type": "markdown",
   "metadata": {},
   "source": [
    "## Check that series data ends with awake "
   ]
  },
  {
   "cell_type": "code",
   "execution_count": 5,
   "metadata": {},
   "outputs": [
    {
     "data": {
      "text/plain": [
       "array(['wakeup'], dtype=object)"
      ]
     },
     "execution_count": 5,
     "metadata": {},
     "output_type": "execute_result"
    }
   ],
   "source": [
    "train_events.groupby('series_id').tail(1)[\"event\"].unique()"
   ]
  },
  {
   "cell_type": "markdown",
   "metadata": {},
   "source": [
    "## Check if any series has NaN"
   ]
  },
  {
   "cell_type": "code",
   "execution_count": 6,
   "metadata": {},
   "outputs": [
    {
     "data": {
      "text/plain": [
       "step\n",
       "True     240\n",
       "False     37\n",
       "Name: count, dtype: int64"
      ]
     },
     "execution_count": 6,
     "metadata": {},
     "output_type": "execute_result"
    }
   ],
   "source": [
    "no_nan_series = train_events.groupby('series_id')['step'].apply(lambda x: x.isnull().any())\n",
    "no_nan_series.value_counts()"
   ]
  },
  {
   "cell_type": "code",
   "execution_count": 7,
   "metadata": {},
   "outputs": [
    {
     "data": {
      "text/plain": [
       "series_id\n",
       "038441c925bb    True\n",
       "03d92c9f6f8a    True\n",
       "0402a003dae9    True\n",
       "04f547b8017d    True\n",
       "05e1944c3818    True\n",
       "                ... \n",
       "fa149c3c4bde    True\n",
       "fb223ed2278c    True\n",
       "fbf33b1a2c10    True\n",
       "fcca183903b7    True\n",
       "fe90110788d2    True\n",
       "Name: step, Length: 275, dtype: bool"
      ]
     },
     "execution_count": 7,
     "metadata": {},
     "output_type": "execute_result"
    }
   ],
   "source": [
    "no_nan_series = no_nan_series.drop('31011ade7c0a') # incomplete events data\n",
    "no_nan_series = no_nan_series.drop('a596ad0b82aa') # incomplete events data\n",
    "no_nan_series"
   ]
  },
  {
   "cell_type": "markdown",
   "metadata": {},
   "source": [
    "## In this function, we are combining train_series with train_events to create a binary dataset, for a given series ID. Time points where the individual are asleep are labeled 1 and awake, 0."
   ]
  },
  {
   "cell_type": "code",
   "execution_count": 8,
   "metadata": {},
   "outputs": [],
   "source": [
    "def get_train_series(series): # takes in a series ID and returns\n",
    "    train_series = pd.read_parquet(train_series_path, filters=[('series_id','=',series)])\n",
    "    train_events = pd.read_csv(train_events_path).query('series_id == @series')\n",
    "    \n",
    "    train_events = train_events.dropna()\n",
    "    train_events[\"step\"]  = train_events[\"step\"].astype(\"int\")\n",
    "    train_events[\"awake\"] = train_events[\"event\"].replace({\"onset\":1,\"wakeup\":0})\n",
    "\n",
    "    train = pd.merge(train_series, train_events[['step','awake']], on='step', how='left')\n",
    "    train[\"awake\"] = train[\"awake\"].bfill(axis ='rows')\n",
    "\n",
    "    train['awake'] = train['awake'].fillna(1) # awake\n",
    "    train[\"awake\"] = train[\"awake\"].astype(\"int\")\n",
    "    return(train)"
   ]
  },
  {
   "cell_type": "code",
   "execution_count": 9,
   "metadata": {},
   "outputs": [
    {
     "ename": "ArrowNotImplementedError",
     "evalue": "Function 'equal' has no kernel matching input types (large_string, bool)",
     "output_type": "error",
     "traceback": [
      "\u001b[0;31m---------------------------------------------------------------------------\u001b[0m",
      "\u001b[0;31mArrowNotImplementedError\u001b[0m                  Traceback (most recent call last)",
      "\u001b[1;32m/Users/thomaswynn/Desktop/sleep_kaggle/eda.ipynb Cell 15\u001b[0m line \u001b[0;36m1\n\u001b[0;32m----> <a href='vscode-notebook-cell:/Users/thomaswynn/Desktop/sleep_kaggle/eda.ipynb#X20sZmlsZQ%3D%3D?line=0'>1</a>\u001b[0m train \u001b[39m=\u001b[39m get_train_series(no_nan_series[\u001b[39m0\u001b[39;49m])\n\u001b[1;32m      <a href='vscode-notebook-cell:/Users/thomaswynn/Desktop/sleep_kaggle/eda.ipynb#X20sZmlsZQ%3D%3D?line=1'>2</a>\u001b[0m train\n",
      "\u001b[1;32m/Users/thomaswynn/Desktop/sleep_kaggle/eda.ipynb Cell 15\u001b[0m line \u001b[0;36m2\n\u001b[1;32m      <a href='vscode-notebook-cell:/Users/thomaswynn/Desktop/sleep_kaggle/eda.ipynb#X20sZmlsZQ%3D%3D?line=0'>1</a>\u001b[0m \u001b[39mdef\u001b[39;00m \u001b[39mget_train_series\u001b[39m(series): \u001b[39m# takes in a series ID and returns\u001b[39;00m\n\u001b[0;32m----> <a href='vscode-notebook-cell:/Users/thomaswynn/Desktop/sleep_kaggle/eda.ipynb#X20sZmlsZQ%3D%3D?line=1'>2</a>\u001b[0m     train_series \u001b[39m=\u001b[39m pd\u001b[39m.\u001b[39;49mread_parquet(train_series_path, filters\u001b[39m=\u001b[39;49m[(\u001b[39m'\u001b[39;49m\u001b[39mseries_id\u001b[39;49m\u001b[39m'\u001b[39;49m,\u001b[39m'\u001b[39;49m\u001b[39m=\u001b[39;49m\u001b[39m'\u001b[39;49m,series)])\n\u001b[1;32m      <a href='vscode-notebook-cell:/Users/thomaswynn/Desktop/sleep_kaggle/eda.ipynb#X20sZmlsZQ%3D%3D?line=2'>3</a>\u001b[0m     train_events \u001b[39m=\u001b[39m pd\u001b[39m.\u001b[39mread_csv(train_events_path)\u001b[39m.\u001b[39mquery(\u001b[39m'\u001b[39m\u001b[39mseries_id == @series\u001b[39m\u001b[39m'\u001b[39m)\n\u001b[1;32m      <a href='vscode-notebook-cell:/Users/thomaswynn/Desktop/sleep_kaggle/eda.ipynb#X20sZmlsZQ%3D%3D?line=4'>5</a>\u001b[0m     train_events \u001b[39m=\u001b[39m train_events\u001b[39m.\u001b[39mdropna()\n",
      "File \u001b[0;32m~/miniconda/envs/datavis/lib/python3.11/site-packages/pandas/io/parquet.py:509\u001b[0m, in \u001b[0;36mread_parquet\u001b[0;34m(path, engine, columns, storage_options, use_nullable_dtypes, dtype_backend, **kwargs)\u001b[0m\n\u001b[1;32m    506\u001b[0m     use_nullable_dtypes \u001b[39m=\u001b[39m \u001b[39mFalse\u001b[39;00m\n\u001b[1;32m    507\u001b[0m check_dtype_backend(dtype_backend)\n\u001b[0;32m--> 509\u001b[0m \u001b[39mreturn\u001b[39;00m impl\u001b[39m.\u001b[39;49mread(\n\u001b[1;32m    510\u001b[0m     path,\n\u001b[1;32m    511\u001b[0m     columns\u001b[39m=\u001b[39;49mcolumns,\n\u001b[1;32m    512\u001b[0m     storage_options\u001b[39m=\u001b[39;49mstorage_options,\n\u001b[1;32m    513\u001b[0m     use_nullable_dtypes\u001b[39m=\u001b[39;49muse_nullable_dtypes,\n\u001b[1;32m    514\u001b[0m     dtype_backend\u001b[39m=\u001b[39;49mdtype_backend,\n\u001b[1;32m    515\u001b[0m     \u001b[39m*\u001b[39;49m\u001b[39m*\u001b[39;49mkwargs,\n\u001b[1;32m    516\u001b[0m )\n",
      "File \u001b[0;32m~/miniconda/envs/datavis/lib/python3.11/site-packages/pandas/io/parquet.py:227\u001b[0m, in \u001b[0;36mPyArrowImpl.read\u001b[0;34m(self, path, columns, use_nullable_dtypes, dtype_backend, storage_options, **kwargs)\u001b[0m\n\u001b[1;32m    220\u001b[0m path_or_handle, handles, kwargs[\u001b[39m\"\u001b[39m\u001b[39mfilesystem\u001b[39m\u001b[39m\"\u001b[39m] \u001b[39m=\u001b[39m _get_path_or_handle(\n\u001b[1;32m    221\u001b[0m     path,\n\u001b[1;32m    222\u001b[0m     kwargs\u001b[39m.\u001b[39mpop(\u001b[39m\"\u001b[39m\u001b[39mfilesystem\u001b[39m\u001b[39m\"\u001b[39m, \u001b[39mNone\u001b[39;00m),\n\u001b[1;32m    223\u001b[0m     storage_options\u001b[39m=\u001b[39mstorage_options,\n\u001b[1;32m    224\u001b[0m     mode\u001b[39m=\u001b[39m\u001b[39m\"\u001b[39m\u001b[39mrb\u001b[39m\u001b[39m\"\u001b[39m,\n\u001b[1;32m    225\u001b[0m )\n\u001b[1;32m    226\u001b[0m \u001b[39mtry\u001b[39;00m:\n\u001b[0;32m--> 227\u001b[0m     pa_table \u001b[39m=\u001b[39m \u001b[39mself\u001b[39;49m\u001b[39m.\u001b[39;49mapi\u001b[39m.\u001b[39;49mparquet\u001b[39m.\u001b[39;49mread_table(\n\u001b[1;32m    228\u001b[0m         path_or_handle, columns\u001b[39m=\u001b[39;49mcolumns, \u001b[39m*\u001b[39;49m\u001b[39m*\u001b[39;49mkwargs\n\u001b[1;32m    229\u001b[0m     )\n\u001b[1;32m    230\u001b[0m     result \u001b[39m=\u001b[39m pa_table\u001b[39m.\u001b[39mto_pandas(\u001b[39m*\u001b[39m\u001b[39m*\u001b[39mto_pandas_kwargs)\n\u001b[1;32m    232\u001b[0m     \u001b[39mif\u001b[39;00m manager \u001b[39m==\u001b[39m \u001b[39m\"\u001b[39m\u001b[39marray\u001b[39m\u001b[39m\"\u001b[39m:\n",
      "File \u001b[0;32m~/miniconda/envs/datavis/lib/python3.11/site-packages/pyarrow/parquet/core.py:3002\u001b[0m, in \u001b[0;36mread_table\u001b[0;34m(source, columns, use_threads, metadata, schema, use_pandas_metadata, read_dictionary, memory_map, buffer_size, partitioning, filesystem, filters, use_legacy_dataset, ignore_prefixes, pre_buffer, coerce_int96_timestamp_unit, decryption_properties, thrift_string_size_limit, thrift_container_size_limit)\u001b[0m\n\u001b[1;32m   2991\u001b[0m         \u001b[39m# TODO test that source is not a directory or a list\u001b[39;00m\n\u001b[1;32m   2992\u001b[0m         dataset \u001b[39m=\u001b[39m ParquetFile(\n\u001b[1;32m   2993\u001b[0m             source, metadata\u001b[39m=\u001b[39mmetadata, read_dictionary\u001b[39m=\u001b[39mread_dictionary,\n\u001b[1;32m   2994\u001b[0m             memory_map\u001b[39m=\u001b[39mmemory_map, buffer_size\u001b[39m=\u001b[39mbuffer_size,\n\u001b[0;32m   (...)\u001b[0m\n\u001b[1;32m   2999\u001b[0m             thrift_container_size_limit\u001b[39m=\u001b[39mthrift_container_size_limit,\n\u001b[1;32m   3000\u001b[0m         )\n\u001b[0;32m-> 3002\u001b[0m     \u001b[39mreturn\u001b[39;00m dataset\u001b[39m.\u001b[39;49mread(columns\u001b[39m=\u001b[39;49mcolumns, use_threads\u001b[39m=\u001b[39;49muse_threads,\n\u001b[1;32m   3003\u001b[0m                         use_pandas_metadata\u001b[39m=\u001b[39;49muse_pandas_metadata)\n\u001b[1;32m   3005\u001b[0m warnings\u001b[39m.\u001b[39mwarn(\n\u001b[1;32m   3006\u001b[0m     \u001b[39m\"\u001b[39m\u001b[39mPassing \u001b[39m\u001b[39m'\u001b[39m\u001b[39muse_legacy_dataset=True\u001b[39m\u001b[39m'\u001b[39m\u001b[39m to get the legacy behaviour is \u001b[39m\u001b[39m\"\u001b[39m\n\u001b[1;32m   3007\u001b[0m     \u001b[39m\"\u001b[39m\u001b[39mdeprecated as of pyarrow 8.0.0, and the legacy implementation will \u001b[39m\u001b[39m\"\u001b[39m\n\u001b[1;32m   3008\u001b[0m     \u001b[39m\"\u001b[39m\u001b[39mbe removed in a future version.\u001b[39m\u001b[39m\"\u001b[39m,\n\u001b[1;32m   3009\u001b[0m     \u001b[39mFutureWarning\u001b[39;00m, stacklevel\u001b[39m=\u001b[39m\u001b[39m2\u001b[39m)\n\u001b[1;32m   3011\u001b[0m \u001b[39mif\u001b[39;00m ignore_prefixes \u001b[39mis\u001b[39;00m \u001b[39mnot\u001b[39;00m \u001b[39mNone\u001b[39;00m:\n",
      "File \u001b[0;32m~/miniconda/envs/datavis/lib/python3.11/site-packages/pyarrow/parquet/core.py:2630\u001b[0m, in \u001b[0;36m_ParquetDatasetV2.read\u001b[0;34m(self, columns, use_threads, use_pandas_metadata)\u001b[0m\n\u001b[1;32m   2622\u001b[0m         index_columns \u001b[39m=\u001b[39m [\n\u001b[1;32m   2623\u001b[0m             col \u001b[39mfor\u001b[39;00m col \u001b[39min\u001b[39;00m _get_pandas_index_columns(metadata)\n\u001b[1;32m   2624\u001b[0m             \u001b[39mif\u001b[39;00m \u001b[39mnot\u001b[39;00m \u001b[39misinstance\u001b[39m(col, \u001b[39mdict\u001b[39m)\n\u001b[1;32m   2625\u001b[0m         ]\n\u001b[1;32m   2626\u001b[0m         columns \u001b[39m=\u001b[39m (\n\u001b[1;32m   2627\u001b[0m             \u001b[39mlist\u001b[39m(columns) \u001b[39m+\u001b[39m \u001b[39mlist\u001b[39m(\u001b[39mset\u001b[39m(index_columns) \u001b[39m-\u001b[39m \u001b[39mset\u001b[39m(columns))\n\u001b[1;32m   2628\u001b[0m         )\n\u001b[0;32m-> 2630\u001b[0m table \u001b[39m=\u001b[39m \u001b[39mself\u001b[39;49m\u001b[39m.\u001b[39;49m_dataset\u001b[39m.\u001b[39;49mto_table(\n\u001b[1;32m   2631\u001b[0m     columns\u001b[39m=\u001b[39;49mcolumns, \u001b[39mfilter\u001b[39;49m\u001b[39m=\u001b[39;49m\u001b[39mself\u001b[39;49m\u001b[39m.\u001b[39;49m_filter_expression,\n\u001b[1;32m   2632\u001b[0m     use_threads\u001b[39m=\u001b[39;49muse_threads\n\u001b[1;32m   2633\u001b[0m )\n\u001b[1;32m   2635\u001b[0m \u001b[39m# if use_pandas_metadata, restore the pandas metadata (which gets\u001b[39;00m\n\u001b[1;32m   2636\u001b[0m \u001b[39m# lost if doing a specific `columns` selection in to_table)\u001b[39;00m\n\u001b[1;32m   2637\u001b[0m \u001b[39mif\u001b[39;00m use_pandas_metadata:\n",
      "File \u001b[0;32m~/miniconda/envs/datavis/lib/python3.11/site-packages/pyarrow/_dataset.pyx:547\u001b[0m, in \u001b[0;36mpyarrow._dataset.Dataset.to_table\u001b[0;34m()\u001b[0m\n",
      "File \u001b[0;32m~/miniconda/envs/datavis/lib/python3.11/site-packages/pyarrow/_dataset.pyx:393\u001b[0m, in \u001b[0;36mpyarrow._dataset.Dataset.scanner\u001b[0;34m()\u001b[0m\n",
      "File \u001b[0;32m~/miniconda/envs/datavis/lib/python3.11/site-packages/pyarrow/_dataset.pyx:3391\u001b[0m, in \u001b[0;36mpyarrow._dataset.Scanner.from_dataset\u001b[0;34m()\u001b[0m\n",
      "File \u001b[0;32m~/miniconda/envs/datavis/lib/python3.11/site-packages/pyarrow/_dataset.pyx:3309\u001b[0m, in \u001b[0;36mpyarrow._dataset.Scanner._make_scan_options\u001b[0;34m()\u001b[0m\n",
      "File \u001b[0;32m~/miniconda/envs/datavis/lib/python3.11/site-packages/pyarrow/_dataset.pyx:3243\u001b[0m, in \u001b[0;36mpyarrow._dataset._populate_builder\u001b[0;34m()\u001b[0m\n",
      "File \u001b[0;32m~/miniconda/envs/datavis/lib/python3.11/site-packages/pyarrow/_compute.pyx:2595\u001b[0m, in \u001b[0;36mpyarrow._compute._bind\u001b[0;34m()\u001b[0m\n",
      "File \u001b[0;32m~/miniconda/envs/datavis/lib/python3.11/site-packages/pyarrow/error.pxi:144\u001b[0m, in \u001b[0;36mpyarrow.lib.pyarrow_internal_check_status\u001b[0;34m()\u001b[0m\n",
      "File \u001b[0;32m~/miniconda/envs/datavis/lib/python3.11/site-packages/pyarrow/error.pxi:121\u001b[0m, in \u001b[0;36mpyarrow.lib.check_status\u001b[0;34m()\u001b[0m\n",
      "\u001b[0;31mArrowNotImplementedError\u001b[0m: Function 'equal' has no kernel matching input types (large_string, bool)"
     ]
    }
   ],
   "source": [
    "train = get_train_series(no_nan_series[0])\n",
    "train"
   ]
  },
  {
   "cell_type": "code",
   "execution_count": null,
   "metadata": {},
   "outputs": [
    {
     "data": {
      "text/plain": [
       "'2.0.3'"
      ]
     },
     "execution_count": 69,
     "metadata": {},
     "output_type": "execute_result"
    }
   ],
   "source": [
    "pd.__version__"
   ]
  },
  {
   "cell_type": "code",
   "execution_count": null,
   "metadata": {},
   "outputs": [
    {
     "data": {
      "text/html": [
       "<div>\n",
       "<style scoped>\n",
       "    .dataframe tbody tr th:only-of-type {\n",
       "        vertical-align: middle;\n",
       "    }\n",
       "\n",
       "    .dataframe tbody tr th {\n",
       "        vertical-align: top;\n",
       "    }\n",
       "\n",
       "    .dataframe thead th {\n",
       "        text-align: right;\n",
       "    }\n",
       "</style>\n",
       "<table border=\"1\" class=\"dataframe\">\n",
       "  <thead>\n",
       "    <tr style=\"text-align: right;\">\n",
       "      <th></th>\n",
       "      <th>series_id</th>\n",
       "      <th>night</th>\n",
       "      <th>event</th>\n",
       "      <th>step</th>\n",
       "      <th>timestamp</th>\n",
       "    </tr>\n",
       "  </thead>\n",
       "  <tbody>\n",
       "    <tr>\n",
       "      <th>0</th>\n",
       "      <td>038441c925bb</td>\n",
       "      <td>1</td>\n",
       "      <td>onset</td>\n",
       "      <td>4992.0</td>\n",
       "      <td>2018-08-14T22:26:00-0400</td>\n",
       "    </tr>\n",
       "    <tr>\n",
       "      <th>1</th>\n",
       "      <td>038441c925bb</td>\n",
       "      <td>1</td>\n",
       "      <td>wakeup</td>\n",
       "      <td>10932.0</td>\n",
       "      <td>2018-08-15T06:41:00-0400</td>\n",
       "    </tr>\n",
       "    <tr>\n",
       "      <th>2</th>\n",
       "      <td>038441c925bb</td>\n",
       "      <td>2</td>\n",
       "      <td>onset</td>\n",
       "      <td>20244.0</td>\n",
       "      <td>2018-08-15T19:37:00-0400</td>\n",
       "    </tr>\n",
       "    <tr>\n",
       "      <th>3</th>\n",
       "      <td>038441c925bb</td>\n",
       "      <td>2</td>\n",
       "      <td>wakeup</td>\n",
       "      <td>27492.0</td>\n",
       "      <td>2018-08-16T05:41:00-0400</td>\n",
       "    </tr>\n",
       "    <tr>\n",
       "      <th>4</th>\n",
       "      <td>038441c925bb</td>\n",
       "      <td>3</td>\n",
       "      <td>onset</td>\n",
       "      <td>39996.0</td>\n",
       "      <td>2018-08-16T23:03:00-0400</td>\n",
       "    </tr>\n",
       "    <tr>\n",
       "      <th>...</th>\n",
       "      <td>...</td>\n",
       "      <td>...</td>\n",
       "      <td>...</td>\n",
       "      <td>...</td>\n",
       "      <td>...</td>\n",
       "    </tr>\n",
       "    <tr>\n",
       "      <th>14505</th>\n",
       "      <td>fe90110788d2</td>\n",
       "      <td>33</td>\n",
       "      <td>wakeup</td>\n",
       "      <td>560604.0</td>\n",
       "      <td>2017-09-06T04:07:00-0400</td>\n",
       "    </tr>\n",
       "    <tr>\n",
       "      <th>14506</th>\n",
       "      <td>fe90110788d2</td>\n",
       "      <td>34</td>\n",
       "      <td>onset</td>\n",
       "      <td>574620.0</td>\n",
       "      <td>2017-09-06T23:35:00-0400</td>\n",
       "    </tr>\n",
       "    <tr>\n",
       "      <th>14507</th>\n",
       "      <td>fe90110788d2</td>\n",
       "      <td>34</td>\n",
       "      <td>wakeup</td>\n",
       "      <td>581604.0</td>\n",
       "      <td>2017-09-07T09:17:00-0400</td>\n",
       "    </tr>\n",
       "    <tr>\n",
       "      <th>14508</th>\n",
       "      <td>fe90110788d2</td>\n",
       "      <td>35</td>\n",
       "      <td>onset</td>\n",
       "      <td>NaN</td>\n",
       "      <td>NaN</td>\n",
       "    </tr>\n",
       "    <tr>\n",
       "      <th>14509</th>\n",
       "      <td>fe90110788d2</td>\n",
       "      <td>35</td>\n",
       "      <td>wakeup</td>\n",
       "      <td>NaN</td>\n",
       "      <td>NaN</td>\n",
       "    </tr>\n",
       "  </tbody>\n",
       "</table>\n",
       "<p>14510 rows × 5 columns</p>\n",
       "</div>"
      ],
      "text/plain": [
       "          series_id  night   event      step                 timestamp\n",
       "0      038441c925bb      1   onset    4992.0  2018-08-14T22:26:00-0400\n",
       "1      038441c925bb      1  wakeup   10932.0  2018-08-15T06:41:00-0400\n",
       "2      038441c925bb      2   onset   20244.0  2018-08-15T19:37:00-0400\n",
       "3      038441c925bb      2  wakeup   27492.0  2018-08-16T05:41:00-0400\n",
       "4      038441c925bb      3   onset   39996.0  2018-08-16T23:03:00-0400\n",
       "...             ...    ...     ...       ...                       ...\n",
       "14505  fe90110788d2     33  wakeup  560604.0  2017-09-06T04:07:00-0400\n",
       "14506  fe90110788d2     34   onset  574620.0  2017-09-06T23:35:00-0400\n",
       "14507  fe90110788d2     34  wakeup  581604.0  2017-09-07T09:17:00-0400\n",
       "14508  fe90110788d2     35   onset       NaN                       NaN\n",
       "14509  fe90110788d2     35  wakeup       NaN                       NaN\n",
       "\n",
       "[14510 rows x 5 columns]"
      ]
     },
     "execution_count": 43,
     "metadata": {},
     "output_type": "execute_result"
    }
   ],
   "source": [
    "train_events"
   ]
  },
  {
   "cell_type": "code",
   "execution_count": null,
   "metadata": {},
   "outputs": [
    {
     "data": {
      "text/html": [
       "<div>\n",
       "<style scoped>\n",
       "    .dataframe tbody tr th:only-of-type {\n",
       "        vertical-align: middle;\n",
       "    }\n",
       "\n",
       "    .dataframe tbody tr th {\n",
       "        vertical-align: top;\n",
       "    }\n",
       "\n",
       "    .dataframe thead th {\n",
       "        text-align: right;\n",
       "    }\n",
       "</style>\n",
       "<table border=\"1\" class=\"dataframe\">\n",
       "  <thead>\n",
       "    <tr style=\"text-align: right;\">\n",
       "      <th></th>\n",
       "      <th>series_id</th>\n",
       "      <th>step</th>\n",
       "      <th>timestamp</th>\n",
       "      <th>anglez</th>\n",
       "      <th>enmo</th>\n",
       "    </tr>\n",
       "  </thead>\n",
       "  <tbody>\n",
       "    <tr>\n",
       "      <th>0</th>\n",
       "      <td>038441c925bb</td>\n",
       "      <td>0</td>\n",
       "      <td>2018-08-14T15:30:00-0400</td>\n",
       "      <td>2.636700</td>\n",
       "      <td>0.0217</td>\n",
       "    </tr>\n",
       "    <tr>\n",
       "      <th>1</th>\n",
       "      <td>038441c925bb</td>\n",
       "      <td>1</td>\n",
       "      <td>2018-08-14T15:30:05-0400</td>\n",
       "      <td>2.636800</td>\n",
       "      <td>0.0215</td>\n",
       "    </tr>\n",
       "    <tr>\n",
       "      <th>2</th>\n",
       "      <td>038441c925bb</td>\n",
       "      <td>2</td>\n",
       "      <td>2018-08-14T15:30:10-0400</td>\n",
       "      <td>2.637000</td>\n",
       "      <td>0.0216</td>\n",
       "    </tr>\n",
       "    <tr>\n",
       "      <th>3</th>\n",
       "      <td>038441c925bb</td>\n",
       "      <td>3</td>\n",
       "      <td>2018-08-14T15:30:15-0400</td>\n",
       "      <td>2.636800</td>\n",
       "      <td>0.0213</td>\n",
       "    </tr>\n",
       "    <tr>\n",
       "      <th>4</th>\n",
       "      <td>038441c925bb</td>\n",
       "      <td>4</td>\n",
       "      <td>2018-08-14T15:30:20-0400</td>\n",
       "      <td>2.636800</td>\n",
       "      <td>0.0215</td>\n",
       "    </tr>\n",
       "    <tr>\n",
       "      <th>...</th>\n",
       "      <td>...</td>\n",
       "      <td>...</td>\n",
       "      <td>...</td>\n",
       "      <td>...</td>\n",
       "      <td>...</td>\n",
       "    </tr>\n",
       "    <tr>\n",
       "      <th>127946335</th>\n",
       "      <td>fe90110788d2</td>\n",
       "      <td>592375</td>\n",
       "      <td>2017-09-08T00:14:35-0400</td>\n",
       "      <td>-27.277500</td>\n",
       "      <td>0.0204</td>\n",
       "    </tr>\n",
       "    <tr>\n",
       "      <th>127946336</th>\n",
       "      <td>fe90110788d2</td>\n",
       "      <td>592376</td>\n",
       "      <td>2017-09-08T00:14:40-0400</td>\n",
       "      <td>-27.032499</td>\n",
       "      <td>0.0233</td>\n",
       "    </tr>\n",
       "    <tr>\n",
       "      <th>127946337</th>\n",
       "      <td>fe90110788d2</td>\n",
       "      <td>592377</td>\n",
       "      <td>2017-09-08T00:14:45-0400</td>\n",
       "      <td>-26.841200</td>\n",
       "      <td>0.0202</td>\n",
       "    </tr>\n",
       "    <tr>\n",
       "      <th>127946338</th>\n",
       "      <td>fe90110788d2</td>\n",
       "      <td>592378</td>\n",
       "      <td>2017-09-08T00:14:50-0400</td>\n",
       "      <td>-26.723900</td>\n",
       "      <td>0.0199</td>\n",
       "    </tr>\n",
       "    <tr>\n",
       "      <th>127946339</th>\n",
       "      <td>fe90110788d2</td>\n",
       "      <td>592379</td>\n",
       "      <td>2017-09-08T00:14:55-0400</td>\n",
       "      <td>-31.521601</td>\n",
       "      <td>0.0205</td>\n",
       "    </tr>\n",
       "  </tbody>\n",
       "</table>\n",
       "<p>127946340 rows × 5 columns</p>\n",
       "</div>"
      ],
      "text/plain": [
       "              series_id    step                 timestamp     anglez    enmo\n",
       "0          038441c925bb       0  2018-08-14T15:30:00-0400   2.636700  0.0217\n",
       "1          038441c925bb       1  2018-08-14T15:30:05-0400   2.636800  0.0215\n",
       "2          038441c925bb       2  2018-08-14T15:30:10-0400   2.637000  0.0216\n",
       "3          038441c925bb       3  2018-08-14T15:30:15-0400   2.636800  0.0213\n",
       "4          038441c925bb       4  2018-08-14T15:30:20-0400   2.636800  0.0215\n",
       "...                 ...     ...                       ...        ...     ...\n",
       "127946335  fe90110788d2  592375  2017-09-08T00:14:35-0400 -27.277500  0.0204\n",
       "127946336  fe90110788d2  592376  2017-09-08T00:14:40-0400 -27.032499  0.0233\n",
       "127946337  fe90110788d2  592377  2017-09-08T00:14:45-0400 -26.841200  0.0202\n",
       "127946338  fe90110788d2  592378  2017-09-08T00:14:50-0400 -26.723900  0.0199\n",
       "127946339  fe90110788d2  592379  2017-09-08T00:14:55-0400 -31.521601  0.0205\n",
       "\n",
       "[127946340 rows x 5 columns]"
      ]
     },
     "execution_count": 44,
     "metadata": {},
     "output_type": "execute_result"
    }
   ],
   "source": [
    "train_series"
   ]
  },
  {
   "cell_type": "markdown",
   "metadata": {},
   "source": [
    "### From the Kaggle description, serires_id is the "
   ]
  }
 ],
 "metadata": {
  "kernelspec": {
   "display_name": "datavis",
   "language": "python",
   "name": "python3"
  },
  "language_info": {
   "codemirror_mode": {
    "name": "ipython",
    "version": 3
   },
   "file_extension": ".py",
   "mimetype": "text/x-python",
   "name": "python",
   "nbconvert_exporter": "python",
   "pygments_lexer": "ipython3",
   "version": "3.11.0"
  },
  "orig_nbformat": 4
 },
 "nbformat": 4,
 "nbformat_minor": 2
}
